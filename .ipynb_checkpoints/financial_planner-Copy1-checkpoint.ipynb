{
 "cells": [
  {
   "cell_type": "markdown",
   "metadata": {},
   "source": [
    "# Unit 5 - Financial Planning"
   ]
  },
  {
   "cell_type": "code",
   "execution_count": 1,
   "metadata": {},
   "outputs": [],
   "source": [
    "# Initial imports\n",
    "import os\n",
    "import requests\n",
    "import pandas as pd\n",
    "from dotenv import load_dotenv\n",
    "import alpaca_trade_api as tradeapi\n",
    "from MCForecastTools import MCSimulation\n",
    "\n",
    "%matplotlib inline"
   ]
  },
  {
   "cell_type": "code",
   "execution_count": 2,
   "metadata": {},
   "outputs": [
    {
     "data": {
      "text/plain": [
       "True"
      ]
     },
     "execution_count": 2,
     "metadata": {},
     "output_type": "execute_result"
    }
   ],
   "source": [
    "# Load .env enviroment variables\n",
    "load_dotenv()"
   ]
  },
  {
   "cell_type": "markdown",
   "metadata": {},
   "source": [
    "## Part 1 - Personal Finance Planner"
   ]
  },
  {
   "cell_type": "markdown",
   "metadata": {},
   "source": [
    "### Collect Crypto Prices Using the `requests` Library"
   ]
  },
  {
   "cell_type": "code",
   "execution_count": 15,
   "metadata": {},
   "outputs": [],
   "source": [
    "# Set current amount of crypto assets\n",
    "my_btc = 1.2\n",
    "my_eth = 5.3\n"
   ]
  },
  {
   "cell_type": "code",
   "execution_count": 4,
   "metadata": {},
   "outputs": [],
   "source": [
    "# Crypto API URLs\n",
    "btc_url = \"https://api.alternative.me/v2/ticker/Bitcoin/?convert=USD\"\n",
    "eth_url = \"https://api.alternative.me/v2/ticker/Ethereum/?convert=USD\""
   ]
  },
  {
   "cell_type": "code",
   "execution_count": 5,
   "metadata": {},
   "outputs": [
    {
     "name": "stdout",
     "output_type": "stream",
     "text": [
      "The current value of your 1.2 BTC is $42288.00 USD\n",
      "The current value of your 5.3 ETH is $12235.10 USD\n"
     ]
    }
   ],
   "source": [
    "# Fetch current BTC price\n",
    "data = requests.get(btc_url)\n",
    "btc_data = data.json()\n",
    "current_btc_price = btc_data[\"data\"][\"1\"][\"quotes\"][\"USD\"][\"price\"]\n",
    "\n",
    "# Fetch current ETH price\n",
    "data = requests.get(eth_url)\n",
    "eth_data = data.json()\n",
    "current_eth_price = eth_data[\"data\"][\"1027\"][\"quotes\"][\"USD\"][\"price\"]\n",
    "\n",
    "# Compute current value of my crpto\n",
    "my_btc_value = my_btc * current_btc_price\n",
    "my_eth_value = my_eth * current_eth_price\n",
    "\n",
    "# Print current crypto wallet balance\n",
    "print(f\"The current value of your {my_btc} BTC is ${my_btc_value:0.2f} USD\")\n",
    "print(f\"The current value of your {my_eth} ETH is ${my_eth_value:0.2f} USD\")"
   ]
  },
  {
   "cell_type": "markdown",
   "metadata": {},
   "source": [
    "### Collect Investments Data Using Alpaca: `SPY` (stocks) and `AGG` (bonds)"
   ]
  },
  {
   "cell_type": "code",
   "execution_count": 6,
   "metadata": {},
   "outputs": [],
   "source": [
    "# Set current amount of shares\n",
    "my_agg = 200\n",
    "my_spy = 50"
   ]
  },
  {
   "cell_type": "code",
   "execution_count": 7,
   "metadata": {},
   "outputs": [],
   "source": [
    "# Set Alpaca API key and secret\n",
    "alpaca_api_key = os.getenv(\"ALPACA_API_KEY\")\n",
    "alpaca_secret_key = os.getenv(\"ALPACA_SECRET_KEY\")\n",
    "\n",
    "# Create the Alpaca API object\n",
    "api = tradeapi.REST(\n",
    "    alpaca_api_key,\n",
    "    alpaca_secret_key,\n",
    "    api_version = \"v2\")"
   ]
  },
  {
   "cell_type": "code",
   "execution_count": 14,
   "metadata": {},
   "outputs": [
    {
     "data": {
      "text/html": [
       "<div>\n",
       "<style scoped>\n",
       "    .dataframe tbody tr th:only-of-type {\n",
       "        vertical-align: middle;\n",
       "    }\n",
       "\n",
       "    .dataframe tbody tr th {\n",
       "        vertical-align: top;\n",
       "    }\n",
       "\n",
       "    .dataframe thead tr th {\n",
       "        text-align: left;\n",
       "    }\n",
       "\n",
       "    .dataframe thead tr:last-of-type th {\n",
       "        text-align: right;\n",
       "    }\n",
       "</style>\n",
       "<table border=\"1\" class=\"dataframe\">\n",
       "  <thead>\n",
       "    <tr>\n",
       "      <th></th>\n",
       "      <th colspan=\"5\" halign=\"left\">AGG</th>\n",
       "      <th colspan=\"5\" halign=\"left\">SPY</th>\n",
       "    </tr>\n",
       "    <tr>\n",
       "      <th></th>\n",
       "      <th>open</th>\n",
       "      <th>high</th>\n",
       "      <th>low</th>\n",
       "      <th>close</th>\n",
       "      <th>volume</th>\n",
       "      <th>open</th>\n",
       "      <th>high</th>\n",
       "      <th>low</th>\n",
       "      <th>close</th>\n",
       "      <th>volume</th>\n",
       "    </tr>\n",
       "    <tr>\n",
       "      <th>time</th>\n",
       "      <th></th>\n",
       "      <th></th>\n",
       "      <th></th>\n",
       "      <th></th>\n",
       "      <th></th>\n",
       "      <th></th>\n",
       "      <th></th>\n",
       "      <th></th>\n",
       "      <th></th>\n",
       "      <th></th>\n",
       "    </tr>\n",
       "  </thead>\n",
       "  <tbody>\n",
       "    <tr>\n",
       "      <th>2017-06-15 00:00:00-04:00</th>\n",
       "      <td>109.90</td>\n",
       "      <td>109.90</td>\n",
       "      <td>109.780</td>\n",
       "      <td>109.870</td>\n",
       "      <td>1938779.0</td>\n",
       "      <td>242.68</td>\n",
       "      <td>243.91</td>\n",
       "      <td>242.3600</td>\n",
       "      <td>243.79</td>\n",
       "      <td>51523068.0</td>\n",
       "    </tr>\n",
       "    <tr>\n",
       "      <th>2017-06-16 00:00:00-04:00</th>\n",
       "      <td>109.86</td>\n",
       "      <td>109.97</td>\n",
       "      <td>109.850</td>\n",
       "      <td>109.945</td>\n",
       "      <td>1709677.0</td>\n",
       "      <td>242.77</td>\n",
       "      <td>242.83</td>\n",
       "      <td>241.6337</td>\n",
       "      <td>242.63</td>\n",
       "      <td>48998243.0</td>\n",
       "    </tr>\n",
       "    <tr>\n",
       "      <th>2017-06-19 00:00:00-04:00</th>\n",
       "      <td>109.87</td>\n",
       "      <td>109.90</td>\n",
       "      <td>109.740</td>\n",
       "      <td>109.790</td>\n",
       "      <td>1375531.0</td>\n",
       "      <td>243.59</td>\n",
       "      <td>244.73</td>\n",
       "      <td>243.4800</td>\n",
       "      <td>244.64</td>\n",
       "      <td>42503652.0</td>\n",
       "    </tr>\n",
       "    <tr>\n",
       "      <th>2017-06-20 00:00:00-04:00</th>\n",
       "      <td>109.85</td>\n",
       "      <td>110.03</td>\n",
       "      <td>109.800</td>\n",
       "      <td>109.975</td>\n",
       "      <td>2010628.0</td>\n",
       "      <td>244.25</td>\n",
       "      <td>244.26</td>\n",
       "      <td>242.9900</td>\n",
       "      <td>243.04</td>\n",
       "      <td>39203167.0</td>\n",
       "    </tr>\n",
       "    <tr>\n",
       "      <th>2017-06-21 00:00:00-04:00</th>\n",
       "      <td>109.88</td>\n",
       "      <td>110.04</td>\n",
       "      <td>109.880</td>\n",
       "      <td>109.980</td>\n",
       "      <td>1085301.0</td>\n",
       "      <td>243.43</td>\n",
       "      <td>243.59</td>\n",
       "      <td>242.4100</td>\n",
       "      <td>242.95</td>\n",
       "      <td>42746920.0</td>\n",
       "    </tr>\n",
       "    <tr>\n",
       "      <th>...</th>\n",
       "      <td>...</td>\n",
       "      <td>...</td>\n",
       "      <td>...</td>\n",
       "      <td>...</td>\n",
       "      <td>...</td>\n",
       "      <td>...</td>\n",
       "      <td>...</td>\n",
       "      <td>...</td>\n",
       "      <td>...</td>\n",
       "      <td>...</td>\n",
       "    </tr>\n",
       "    <tr>\n",
       "      <th>2021-05-28 00:00:00-04:00</th>\n",
       "      <td>114.55</td>\n",
       "      <td>114.68</td>\n",
       "      <td>114.500</td>\n",
       "      <td>114.510</td>\n",
       "      <td>6186451.0</td>\n",
       "      <td>420.97</td>\n",
       "      <td>421.25</td>\n",
       "      <td>419.7900</td>\n",
       "      <td>420.02</td>\n",
       "      <td>49200328.0</td>\n",
       "    </tr>\n",
       "    <tr>\n",
       "      <th>2021-06-01 00:00:00-04:00</th>\n",
       "      <td>114.40</td>\n",
       "      <td>114.40</td>\n",
       "      <td>114.164</td>\n",
       "      <td>114.340</td>\n",
       "      <td>5655159.0</td>\n",
       "      <td>422.57</td>\n",
       "      <td>422.72</td>\n",
       "      <td>419.2000</td>\n",
       "      <td>419.63</td>\n",
       "      <td>47607950.0</td>\n",
       "    </tr>\n",
       "    <tr>\n",
       "      <th>2021-06-02 00:00:00-04:00</th>\n",
       "      <td>114.45</td>\n",
       "      <td>114.51</td>\n",
       "      <td>114.300</td>\n",
       "      <td>114.485</td>\n",
       "      <td>5649317.0</td>\n",
       "      <td>420.37</td>\n",
       "      <td>421.23</td>\n",
       "      <td>419.2900</td>\n",
       "      <td>420.38</td>\n",
       "      <td>41250387.0</td>\n",
       "    </tr>\n",
       "    <tr>\n",
       "      <th>2021-06-03 00:00:00-04:00</th>\n",
       "      <td>114.31</td>\n",
       "      <td>114.46</td>\n",
       "      <td>114.210</td>\n",
       "      <td>114.210</td>\n",
       "      <td>3270096.0</td>\n",
       "      <td>417.87</td>\n",
       "      <td>419.99</td>\n",
       "      <td>416.2800</td>\n",
       "      <td>418.86</td>\n",
       "      <td>51582905.0</td>\n",
       "    </tr>\n",
       "    <tr>\n",
       "      <th>2021-06-04 00:00:00-04:00</th>\n",
       "      <td>114.39</td>\n",
       "      <td>114.67</td>\n",
       "      <td>114.220</td>\n",
       "      <td>114.665</td>\n",
       "      <td>4334878.0</td>\n",
       "      <td>420.75</td>\n",
       "      <td>422.92</td>\n",
       "      <td>418.8422</td>\n",
       "      <td>422.57</td>\n",
       "      <td>45129316.0</td>\n",
       "    </tr>\n",
       "  </tbody>\n",
       "</table>\n",
       "<p>999 rows × 10 columns</p>\n",
       "</div>"
      ],
      "text/plain": [
       "                              AGG                                       \\\n",
       "                             open    high      low    close     volume   \n",
       "time                                                                     \n",
       "2017-06-15 00:00:00-04:00  109.90  109.90  109.780  109.870  1938779.0   \n",
       "2017-06-16 00:00:00-04:00  109.86  109.97  109.850  109.945  1709677.0   \n",
       "2017-06-19 00:00:00-04:00  109.87  109.90  109.740  109.790  1375531.0   \n",
       "2017-06-20 00:00:00-04:00  109.85  110.03  109.800  109.975  2010628.0   \n",
       "2017-06-21 00:00:00-04:00  109.88  110.04  109.880  109.980  1085301.0   \n",
       "...                           ...     ...      ...      ...        ...   \n",
       "2021-05-28 00:00:00-04:00  114.55  114.68  114.500  114.510  6186451.0   \n",
       "2021-06-01 00:00:00-04:00  114.40  114.40  114.164  114.340  5655159.0   \n",
       "2021-06-02 00:00:00-04:00  114.45  114.51  114.300  114.485  5649317.0   \n",
       "2021-06-03 00:00:00-04:00  114.31  114.46  114.210  114.210  3270096.0   \n",
       "2021-06-04 00:00:00-04:00  114.39  114.67  114.220  114.665  4334878.0   \n",
       "\n",
       "                              SPY                                        \n",
       "                             open    high       low   close      volume  \n",
       "time                                                                     \n",
       "2017-06-15 00:00:00-04:00  242.68  243.91  242.3600  243.79  51523068.0  \n",
       "2017-06-16 00:00:00-04:00  242.77  242.83  241.6337  242.63  48998243.0  \n",
       "2017-06-19 00:00:00-04:00  243.59  244.73  243.4800  244.64  42503652.0  \n",
       "2017-06-20 00:00:00-04:00  244.25  244.26  242.9900  243.04  39203167.0  \n",
       "2017-06-21 00:00:00-04:00  243.43  243.59  242.4100  242.95  42746920.0  \n",
       "...                           ...     ...       ...     ...         ...  \n",
       "2021-05-28 00:00:00-04:00  420.97  421.25  419.7900  420.02  49200328.0  \n",
       "2021-06-01 00:00:00-04:00  422.57  422.72  419.2000  419.63  47607950.0  \n",
       "2021-06-02 00:00:00-04:00  420.37  421.23  419.2900  420.38  41250387.0  \n",
       "2021-06-03 00:00:00-04:00  417.87  419.99  416.2800  418.86  51582905.0  \n",
       "2021-06-04 00:00:00-04:00  420.75  422.92  418.8422  422.57  45129316.0  \n",
       "\n",
       "[999 rows x 10 columns]"
      ]
     },
     "execution_count": 14,
     "metadata": {},
     "output_type": "execute_result"
    }
   ],
   "source": [
    "# Format current date as ISO format\n",
    "start_date = pd.Timestamp(\"2016-06-04\", tz=\"America/New_York\").isoformat()\n",
    "end_date = pd.Timestamp(\"2021-06-04\", tz=\"America/New_York\").isoformat()\n",
    "\n",
    "# Set the tickers\n",
    "tickers = [\"AGG\", \"SPY\"]\n",
    "\n",
    "# Set timeframe to '1D' for Alpaca API\n",
    "timeframe = \"1D\"\n",
    "\n",
    "# Get current closing prices for SPY and AGG\n",
    "# (use a limit=1000 parameter to call the most recent 1000 days of data)\n",
    "tickers_df = api.get_barset(\n",
    "    tickers,\n",
    "    timeframe,\n",
    "    start=start_date,\n",
    "    end=end_date,\n",
    "    limit=1000).df\n",
    "\n",
    "# Drop the nulls\n",
    "tickers_df.dropna(inplace=True)\n",
    "\n",
    "# Preview DataFrame\n",
    "tickers_df"
   ]
  },
  {
   "cell_type": "code",
   "execution_count": 9,
   "metadata": {},
   "outputs": [
    {
     "name": "stdout",
     "output_type": "stream",
     "text": [
      "Current AGG closing price: $114.665 USD\n",
      "Current SPY closing price: $422.57 USD\n"
     ]
    }
   ],
   "source": [
    "# Pick AGG and SPY close prices\n",
    "current_agg_close = tickers_df[\"AGG\"][\"close\"].iloc[-1]\n",
    "current_spy_close = tickers_df[\"SPY\"][\"close\"].iloc[-1]\n",
    "\n",
    "# Print AGG and SPY close prices\n",
    "print(f\"Current AGG closing price: ${current_agg_close} USD\")\n",
    "print(f\"Current SPY closing price: ${current_spy_close} USD\")\n"
   ]
  },
  {
   "cell_type": "code",
   "execution_count": 10,
   "metadata": {},
   "outputs": [
    {
     "name": "stdout",
     "output_type": "stream",
     "text": [
      "The current value of your 200 AGG shares is $22933.00 USD\n",
      "The current value of your 50 SPY shares is $21128.50 USD\n"
     ]
    }
   ],
   "source": [
    "# Compute the current value of shares\n",
    "my_agg_value = my_agg * current_agg_close\n",
    "my_spy_value = my_spy * current_spy_close\n",
    "\n",
    "# Print current value of shares\n",
    "print(f\"The current value of your {my_agg} AGG shares is ${my_agg_value:0.2f} USD\")\n",
    "print(f\"The current value of your {my_spy} SPY shares is ${my_spy_value:0.2f} USD\")"
   ]
  },
  {
   "cell_type": "markdown",
   "metadata": {},
   "source": [
    "### Savings Health Analysis"
   ]
  },
  {
   "cell_type": "code",
   "execution_count": 18,
   "metadata": {},
   "outputs": [
    {
     "data": {
      "text/html": [
       "<div>\n",
       "<style scoped>\n",
       "    .dataframe tbody tr th:only-of-type {\n",
       "        vertical-align: middle;\n",
       "    }\n",
       "\n",
       "    .dataframe tbody tr th {\n",
       "        vertical-align: top;\n",
       "    }\n",
       "\n",
       "    .dataframe thead th {\n",
       "        text-align: right;\n",
       "    }\n",
       "</style>\n",
       "<table border=\"1\" class=\"dataframe\">\n",
       "  <thead>\n",
       "    <tr style=\"text-align: right;\">\n",
       "      <th></th>\n",
       "      <th>amount</th>\n",
       "    </tr>\n",
       "  </thead>\n",
       "  <tbody>\n",
       "    <tr>\n",
       "      <th>crypto</th>\n",
       "      <td>54523.103</td>\n",
       "    </tr>\n",
       "    <tr>\n",
       "      <th>shares</th>\n",
       "      <td>44061.500</td>\n",
       "    </tr>\n",
       "  </tbody>\n",
       "</table>\n",
       "</div>"
      ],
      "text/plain": [
       "           amount\n",
       "crypto  54523.103\n",
       "shares  44061.500"
      ]
     },
     "execution_count": 18,
     "metadata": {},
     "output_type": "execute_result"
    }
   ],
   "source": [
    "# Set monthly household income\n",
    "monthly_income = 12000\n",
    "\n",
    "# Consolidate financial assets data, create variables for total assets in each category, indexes\n",
    "total_crypto = my_btc_value + my_eth_value\n",
    "total_shares = my_agg_value + my_spy_value\n",
    "indexes = [\"crypto\", \"shares\"]\n",
    "df_savings_data = {\"amount\":[total_crypto, total_shares]}\n",
    "\n",
    "# Create savings DataFrame\n",
    "df_savings = pd.DataFrame(df_savings_data, index=indexes)\n",
    "\n",
    "# Display savings DataFrame\n",
    "df_savings"
   ]
  },
  {
   "cell_type": "code",
   "execution_count": 21,
   "metadata": {},
   "outputs": [
    {
     "data": {
      "text/plain": [
       "<AxesSubplot:ylabel='amount'>"
      ]
     },
     "execution_count": 21,
     "metadata": {},
     "output_type": "execute_result"
    },
    {
     "data": {
      "image/png": "[encoded data removed]",
      "text/plain": [
       "<Figure size 1080x720 with 1 Axes>"
      ]
     },
     "metadata": {},
     "output_type": "display_data"
    }
   ],
   "source": [
    "# Plot savings pie chart\n",
    "df_savings.plot.pie(y=\"amount\", figsize=(15,10))"
   ]
  },
  {
   "cell_type": "code",
   "execution_count": null,
   "metadata": {},
   "outputs": [],
   "source": [
    "# Set ideal emergency fund\n",
    "emergency_fund = monthly_income * 3\n",
    "\n",
    "# Calculate total amount of savings\n",
    "# YOUR CODE HERE!\n",
    "\n",
    "# Validate saving health\n",
    "# YOUR CODE HERE!"
   ]
  },
  {
   "cell_type": "markdown",
   "metadata": {},
   "source": [
    "## Part 2 - Retirement Planning\n",
    "\n",
    "### Monte Carlo Simulation"
   ]
  },
  {
   "cell_type": "code",
   "execution_count": null,
   "metadata": {},
   "outputs": [],
   "source": [
    "# Set start and end dates of five years back from today.\n",
    "# Sample results may vary from the solution based on the time frame chosen\n",
    "start_date = pd.Timestamp('2016-05-01', tz='America/New_York').isoformat()\n",
    "end_date = pd.Timestamp('2021-05-01', tz='America/New_York').isoformat()"
   ]
  },
  {
   "cell_type": "code",
   "execution_count": null,
   "metadata": {},
   "outputs": [],
   "source": [
    "# Get 5 years' worth of historical data for SPY and AGG\n",
    "# (use a limit=1000 parameter to call the most recent 1000 days of data)\n",
    "# YOUR CODE HERE!\n",
    "\n",
    "# Display sample data\n",
    "df_stock_data.head()"
   ]
  },
  {
   "cell_type": "code",
   "execution_count": null,
   "metadata": {},
   "outputs": [],
   "source": [
    "# Configuring a Monte Carlo simulation to forecast 30 years cumulative returns\n",
    "# YOUR CODE HERE!"
   ]
  },
  {
   "cell_type": "code",
   "execution_count": null,
   "metadata": {},
   "outputs": [],
   "source": [
    "# Printing the simulation input data\n",
    "# YOUR CODE HERE!"
   ]
  },
  {
   "cell_type": "code",
   "execution_count": null,
   "metadata": {},
   "outputs": [],
   "source": [
    "# Running a Monte Carlo simulation to forecast 30 years cumulative returns\n",
    "# YOUR CODE HERE!"
   ]
  },
  {
   "cell_type": "code",
   "execution_count": null,
   "metadata": {},
   "outputs": [],
   "source": [
    "# Plot simulation outcomes\n",
    "# YOUR CODE HERE!"
   ]
  },
  {
   "cell_type": "code",
   "execution_count": null,
   "metadata": {},
   "outputs": [],
   "source": [
    "# Plot probability distribution and confidence intervals\n",
    "# YOUR CODE HERE!"
   ]
  },
  {
   "cell_type": "markdown",
   "metadata": {},
   "source": [
    "### Retirement Analysis"
   ]
  },
  {
   "cell_type": "code",
   "execution_count": null,
   "metadata": {},
   "outputs": [],
   "source": [
    "# Fetch summary statistics from the Monte Carlo simulation results\n",
    "# YOUR CODE HERE!\n",
    "\n",
    "# Print summary statistics\n",
    "# YOUR CODE HERE!"
   ]
  },
  {
   "cell_type": "markdown",
   "metadata": {},
   "source": [
    "### Calculate the expected portfolio return at the `95%` lower and upper confidence intervals based on a `$20,000` initial investment."
   ]
  },
  {
   "cell_type": "code",
   "execution_count": null,
   "metadata": {},
   "outputs": [],
   "source": [
    "# Set initial investment\n",
    "initial_investment = 20000\n",
    "\n",
    "# Use the lower and upper `95%` confidence intervals to calculate the range of the possible outcomes of our $20,000\n",
    "# YOUR CODE HERE!\n",
    "\n",
    "# Print results\n",
    "print(f\"There is a 95% chance that an initial investment of ${initial_investment} in the portfolio\"\n",
    "      f\" over the next 30 years will end within in the range of\"\n",
    "      f\" ${ci_lower} and ${ci_upper}\")"
   ]
  },
  {
   "cell_type": "markdown",
   "metadata": {},
   "source": [
    "### Calculate the expected portfolio return at the `95%` lower and upper confidence intervals based on a `50%` increase in the initial investment."
   ]
  },
  {
   "cell_type": "code",
   "execution_count": null,
   "metadata": {},
   "outputs": [],
   "source": [
    "# Set initial investment\n",
    "initial_investment = 20000 * 1.5\n",
    "\n",
    "# Use the lower and upper `95%` confidence intervals to calculate the range of the possible outcomes of our $30,000\n",
    "# YOUR CODE HERE!\n",
    "\n",
    "# Print results\n",
    "print(f\"There is a 95% chance that an initial investment of ${initial_investment} in the portfolio\"\n",
    "      f\" over the next 30 years will end within in the range of\"\n",
    "      f\" ${ci_lower} and ${ci_upper}\")"
   ]
  },
  {
   "cell_type": "markdown",
   "metadata": {},
   "source": [
    "## Optional Challenge - Early Retirement\n",
    "\n",
    "\n",
    "### Five Years Retirement Option"
   ]
  },
  {
   "cell_type": "code",
   "execution_count": null,
   "metadata": {},
   "outputs": [],
   "source": [
    "# Configuring a Monte Carlo simulation to forecast 5 years cumulative returns\n",
    "# YOUR CODE HERE!"
   ]
  },
  {
   "cell_type": "code",
   "execution_count": null,
   "metadata": {},
   "outputs": [],
   "source": [
    "# Running a Monte Carlo simulation to forecast 5 years cumulative returns\n",
    "# YOUR CODE HERE!"
   ]
  },
  {
   "cell_type": "code",
   "execution_count": null,
   "metadata": {},
   "outputs": [],
   "source": [
    "# Plot simulation outcomes\n",
    "# YOUR CODE HERE!"
   ]
  },
  {
   "cell_type": "code",
   "execution_count": null,
   "metadata": {},
   "outputs": [],
   "source": [
    "# Plot probability distribution and confidence intervals\n",
    "# YOUR CODE HERE!"
   ]
  },
  {
   "cell_type": "code",
   "execution_count": null,
   "metadata": {},
   "outputs": [],
   "source": [
    "# Fetch summary statistics from the Monte Carlo simulation results\n",
    "# YOUR CODE HERE!\n",
    "\n",
    "# Print summary statistics\n",
    "# YOUR CODE HERE!"
   ]
  },
  {
   "cell_type": "code",
   "execution_count": null,
   "metadata": {},
   "outputs": [],
   "source": [
    "# Set initial investment\n",
    "# YOUR CODE HERE!\n",
    "\n",
    "# Use the lower and upper `95%` confidence intervals to calculate the range of the possible outcomes of our $60,000\n",
    "# YOUR CODE HERE!\n",
    "\n",
    "# Print results\n",
    "print(f\"There is a 95% chance that an initial investment of ${initial_investment} in the portfolio\"\n",
    "      f\" over the next 5 years will end within in the range of\"\n",
    "      f\" ${ci_lower_five} and ${ci_upper_five}\")"
   ]
  },
  {
   "cell_type": "markdown",
   "metadata": {},
   "source": [
    "### Ten Years Retirement Option"
   ]
  },
  {
   "cell_type": "code",
   "execution_count": null,
   "metadata": {},
   "outputs": [],
   "source": [
    "# Configuring a Monte Carlo simulation to forecast 10 years cumulative returns\n",
    "# YOUR CODE HERE!"
   ]
  },
  {
   "cell_type": "code",
   "execution_count": null,
   "metadata": {},
   "outputs": [],
   "source": [
    "# Running a Monte Carlo simulation to forecast 10 years cumulative returns\n",
    "# YOUR CODE HERE!"
   ]
  },
  {
   "cell_type": "code",
   "execution_count": null,
   "metadata": {},
   "outputs": [],
   "source": [
    "# Plot simulation outcomes\n",
    "# YOUR CODE HERE!"
   ]
  },
  {
   "cell_type": "code",
   "execution_count": null,
   "metadata": {},
   "outputs": [],
   "source": [
    "# Plot probability distribution and confidence intervals\n",
    "# YOUR CODE HERE!"
   ]
  },
  {
   "cell_type": "code",
   "execution_count": null,
   "metadata": {},
   "outputs": [],
   "source": [
    "# Fetch summary statistics from the Monte Carlo simulation results\n",
    "# YOUR CODE HERE!\n",
    "\n",
    "# Print summary statistics\n",
    "# YOUR CODE HERE!"
   ]
  },
  {
   "cell_type": "code",
   "execution_count": null,
   "metadata": {},
   "outputs": [],
   "source": [
    "# Set initial investment\n",
    "# YOUR CODE HERE!\n",
    "\n",
    "# Use the lower and upper `95%` confidence intervals to calculate the range of the possible outcomes of our $60,000\n",
    "# YOUR CODE HERE!\n",
    "\n",
    "# Print results\n",
    "print(f\"There is a 95% chance that an initial investment of ${initial_investment} in the portfolio\"\n",
    "      f\" over the next 10 years will end within in the range of\"\n",
    "      f\" ${ci_lower_ten} and ${ci_upper_ten}\")"
   ]
  },
  {
   "cell_type": "code",
   "execution_count": null,
   "metadata": {},
   "outputs": [],
   "source": []
  }
 ],
 "metadata": {
  "kernelspec": {
   "display_name": "Python 3",
   "language": "python",
   "name": "python3"
  },
  "language_info": {
   "codemirror_mode": {
    "name": "ipython",
    "version": 3
   },
   "file_extension": ".py",
   "mimetype": "text/x-python",
   "name": "python",
   "nbconvert_exporter": "python",
   "pygments_lexer": "ipython3",
   "version": "3.7.10"
  },
  "nteract": {
   "version": "0.28.0"
  }
 },
 "nbformat": 4,
 "nbformat_minor": 4
}
